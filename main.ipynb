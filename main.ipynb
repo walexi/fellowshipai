{
  "nbformat": 4,
  "nbformat_minor": 0,
  "metadata": {
    "kernelspec": {
      "name": "python3",
      "display_name": "Python 3"
    },
    "language_info": {
      "codemirror_mode": {
        "name": "ipython",
        "version": 3
      },
      "file_extension": ".py",
      "mimetype": "text/x-python",
      "name": "python",
      "nbconvert_exporter": "python",
      "pygments_lexer": "ipython3",
      "version": "3.7.1"
    },
    "colab": {
      "name": "Copy of main.ipynb",
      "version": "0.3.2",
      "provenance": [],
      "collapsed_sections": [
        "rw2m974_g0T0",
        "w2WJ_lXXg0T8",
        "1NOvl-e_g0US",
        "BZtYjeWzg0Ud",
        "ATagsrMkg0Uh",
        "QEpzykNCg0U1",
        "XEelMprtg0VB",
        "iPpEL03Ag0VM"
      ],
      "toc_visible": true,
      "include_colab_link": true
    },
    "accelerator": "GPU"
  },
  "cells": [
    {
      "cell_type": "markdown",
      "metadata": {
        "id": "view-in-github",
        "colab_type": "text"
      },
      "source": [
        "<a href=\"https://colab.research.google.com/github/walexi/fellowshipai/blob/master/main.ipynb\" target=\"_parent\"><img src=\"https://colab.research.google.com/assets/colab-badge.svg\" alt=\"Open In Colab\"/></a>"
      ]
    },
    {
      "cell_type": "markdown",
      "metadata": {
        "id": "FZ6A0O0wg0Sp",
        "colab_type": "text"
      },
      "source": [
        "# Edge-labeling Graph Neural Network for one-shot learning"
      ]
    },
    {
      "cell_type": "markdown",
      "metadata": {
        "id": "hEJgZXyyg0St",
        "colab_type": "text"
      },
      "source": [
        "## Notebook Layout <a id='top'></a>\n",
        "  * [Imports](#imports)\n",
        "  * [Data](#data)\n",
        "    * [Loading](#data-loading)\n",
        "    *[Exploration](#exploration)\n",
        "  * [Model](#model)\n",
        "    * [Architecture and Instantiation](#model-architecture-inst)\n",
        "  * [Training](#training)\n",
        "    * [Learning Rate](#training-learning-rate)\n",
        "    * [Fitting](#training-fitting)\n",
        "    * [Losses](#training-losses)\n",
        "    * [Image Cleaning](#training-image-cleaning)\n",
        "    * [Refitting](#training-refitting)\n",
        "  * [Testing](#testing)\n",
        "  \n",
        "Please note that this notebook is structured such that each cell is meant to be run in sequence from top to bottom."
      ]
    },
    {
      "cell_type": "markdown",
      "metadata": {
        "id": "tIiQz2Bqg0Sw",
        "colab_type": "text"
      },
      "source": [
        "# Imports <a id='imports'></a>"
      ]
    },
    {
      "cell_type": "code",
      "metadata": {
        "id": "8tXvZa4Lyiom",
        "colab_type": "code",
        "colab": {}
      },
      "source": [
        "%matplotlib inline\n",
        "%reload_ext autoreload\n",
        "%autoreload 2"
      ],
      "execution_count": 0,
      "outputs": []
    },
    {
      "cell_type": "code",
      "metadata": {
        "id": "oOb9Iyzrk2_j",
        "colab_type": "code",
        "outputId": "2811822a-4049-4cc8-ea43-74209bc6cdf6",
        "colab": {
          "base_uri": "https://localhost:8080/",
          "height": 136
        }
      },
      "source": [
        "!git clone https://github.com/walexi/fellowshipai"
      ],
      "execution_count": 3,
      "outputs": [
        {
          "output_type": "stream",
          "text": [
            "Cloning into 'fellowshipai'...\n",
            "remote: Enumerating objects: 185, done.\u001b[K\n",
            "remote: Counting objects: 100% (185/185), done.\u001b[K\n",
            "remote: Compressing objects: 100% (124/124), done.\u001b[K\n",
            "remote: Total 185 (delta 103), reused 137 (delta 58), pack-reused 0\u001b[K\n",
            "Receiving objects: 100% (185/185), 1.63 MiB | 2.01 MiB/s, done.\n",
            "Resolving deltas: 100% (103/103), done.\n"
          ],
          "name": "stdout"
        }
      ]
    },
    {
      "cell_type": "code",
      "metadata": {
        "id": "QfTJooX1dP-E",
        "colab_type": "code",
        "colab": {}
      },
      "source": [
        "!rm -rf src fellowshipai"
      ],
      "execution_count": 0,
      "outputs": []
    },
    {
      "cell_type": "code",
      "metadata": {
        "id": "pk3n9QWslF3E",
        "colab_type": "code",
        "colab": {}
      },
      "source": [
        "!cp -rf fellowshipai/src ."
      ],
      "execution_count": 0,
      "outputs": []
    },
    {
      "cell_type": "code",
      "metadata": {
        "id": "AXcmRPEEg0Sx",
        "colab_type": "code",
        "colab": {}
      },
      "source": [
        "import numpy as np\n",
        "import matplotlib.pyplot as plt\n",
        "import os, sys\n",
        "import torch\n",
        "import torch.nn as nn\n",
        "import torchvision.datasets as datasets\n",
        "import torchvision.transforms as transforms\n",
        "from src.model import EmbeddingImagenet, GraphNetwork, ConvNet\n",
        "from src.torchtools import *\n",
        "from src.dataloader import Loader\n",
        "from src.learner import Learner\n",
        "import shutil\n",
        "import os\n",
        "import random"
      ],
      "execution_count": 0,
      "outputs": []
    },
    {
      "cell_type": "markdown",
      "metadata": {
        "id": "IM1IHQSag0S4",
        "colab_type": "text"
      },
      "source": [
        "# Data <a id='data'></a>"
      ]
    },
    {
      "cell_type": "markdown",
      "metadata": {
        "id": "rw2m974_g0T0",
        "colab_type": "text"
      },
      "source": [
        "## Loading <a id='data-loading'></a>\n"
      ]
    },
    {
      "cell_type": "code",
      "metadata": {
        "id": "L-1lAECJg0T1",
        "colab_type": "code",
        "outputId": "f62e5063-9ca8-452b-be83-4ad8a527d886",
        "colab": {
          "base_uri": "https://localhost:8080/",
          "height": 34
        }
      },
      "source": [
        "train_data = datasets.Omniglot(root='./omniglot_data/', download=True, background=True, transform=None)"
      ],
      "execution_count": 6,
      "outputs": [
        {
          "output_type": "stream",
          "text": [
            "Files already downloaded and verified\n"
          ],
          "name": "stdout"
        }
      ]
    },
    {
      "cell_type": "code",
      "metadata": {
        "id": "NkQjItBw1DzJ",
        "colab_type": "code",
        "outputId": "dd301318-6536-4d57-978e-ad4a9fce81cd",
        "colab": {
          "base_uri": "https://localhost:8080/",
          "height": 34
        }
      },
      "source": [
        "eval_data = datasets.Omniglot(root='./omniglot_data/', download=True, background=False, transform=None)"
      ],
      "execution_count": 7,
      "outputs": [
        {
          "output_type": "stream",
          "text": [
            "Files already downloaded and verified\n"
          ],
          "name": "stdout"
        }
      ]
    },
    {
      "cell_type": "markdown",
      "metadata": {
        "id": "B_CYS1EP0ZI2",
        "colab_type": "text"
      },
      "source": [
        "## Exploration <a id='exploration'></a>"
      ]
    },
    {
      "cell_type": "markdown",
      "metadata": {
        "id": "03DGC6wU0zCL",
        "colab_type": "text"
      },
      "source": [
        "### Explore the background set"
      ]
    },
    {
      "cell_type": "code",
      "metadata": {
        "id": "tvlxGFg_0sZT",
        "colab_type": "code",
        "outputId": "af7fe26a-db54-42e2-efc3-4ceee9e6a4aa",
        "colab": {
          "base_uri": "https://localhost:8080/",
          "height": 34
        }
      },
      "source": [
        "len(eval_data)"
      ],
      "execution_count": 8,
      "outputs": [
        {
          "output_type": "execute_result",
          "data": {
            "text/plain": [
              "13180"
            ]
          },
          "metadata": {
            "tags": []
          },
          "execution_count": 8
        }
      ]
    },
    {
      "cell_type": "code",
      "metadata": {
        "id": "0g92tvv_1WYN",
        "colab_type": "code",
        "outputId": "43b00456-7507-4d81-c466-983cfb1e096f",
        "colab": {
          "base_uri": "https://localhost:8080/",
          "height": 34
        }
      },
      "source": [
        "len(train_data._alphabets), len(eval_data._characters)"
      ],
      "execution_count": 9,
      "outputs": [
        {
          "output_type": "execute_result",
          "data": {
            "text/plain": [
              "(30, 659)"
            ]
          },
          "metadata": {
            "tags": []
          },
          "execution_count": 9
        }
      ]
    },
    {
      "cell_type": "code",
      "metadata": {
        "id": "lZfba6V23ky-",
        "colab_type": "code",
        "outputId": "3ef4d80a-e03d-4233-e9b0-2459f5029ffc",
        "colab": {
          "base_uri": "https://localhost:8080/",
          "height": 527
        }
      },
      "source": [
        "train_data._alphabets"
      ],
      "execution_count": 10,
      "outputs": [
        {
          "output_type": "execute_result",
          "data": {
            "text/plain": [
              "['Tifinagh',\n",
              " 'Japanese_(hiragana)',\n",
              " 'Inuktitut_(Canadian_Aboriginal_Syllabics)',\n",
              " 'Mkhedruli_(Georgian)',\n",
              " 'Syriac_(Estrangelo)',\n",
              " 'Korean',\n",
              " 'Sanskrit',\n",
              " 'Grantha',\n",
              " 'Balinese',\n",
              " 'Japanese_(katakana)',\n",
              " 'Tagalog',\n",
              " 'Hebrew',\n",
              " 'Cyrillic',\n",
              " 'Greek',\n",
              " 'Bengali',\n",
              " 'Arcadian',\n",
              " 'Burmese_(Myanmar)',\n",
              " 'Malay_(Jawi_-_Arabic)',\n",
              " 'Blackfoot_(Canadian_Aboriginal_Syllabics)',\n",
              " 'Braille',\n",
              " 'Armenian',\n",
              " 'Asomtavruli_(Georgian)',\n",
              " 'N_Ko',\n",
              " 'Gujarati',\n",
              " 'Anglo-Saxon_Futhorc',\n",
              " 'Futurama',\n",
              " 'Latin',\n",
              " 'Early_Aramaic',\n",
              " 'Ojibwe_(Canadian_Aboriginal_Syllabics)',\n",
              " 'Alphabet_of_the_Magi']"
            ]
          },
          "metadata": {
            "tags": []
          },
          "execution_count": 10
        }
      ]
    },
    {
      "cell_type": "code",
      "metadata": {
        "id": "PK94m2gu3rov",
        "colab_type": "code",
        "outputId": "05bee7b4-bdb3-4e50-9d9a-ae73c41d010a",
        "colab": {
          "base_uri": "https://localhost:8080/",
          "height": 332
        }
      },
      "source": [
        "# background set\n",
        "per_lang_count = dict()\n",
        "for a in train_data._alphabets:\n",
        "    per_lang_count['{}'.format(a)] = len(os.listdir(os.path.join(train_data.target_folder, a)))\n",
        "plt.bar(range(len(per_lang_count)), list(per_lang_count.values()))\n",
        "plt.title('Num of characters per language in Background Set')\n",
        "plt.show()\n",
        "print('maximum num of characters {}'.format(max(list(per_lang_count.values()))))\n",
        "print('mean num of characters {:.2f}'.format(np.mean(list(per_lang_count.values()))))\n",
        "print('median num of characters {}'.format(np.median(list(per_lang_count.values()))))"
      ],
      "execution_count": 11,
      "outputs": [
        {
          "output_type": "display_data",
          "data": {
            "image/png": "[encoded data removed]",
            "text/plain": [
              "<Figure size 432x288 with 1 Axes>"
            ]
          },
          "metadata": {
            "tags": []
          }
        },
        {
          "output_type": "stream",
          "text": [
            "maximum num of characters 55\n",
            "mean num of characters 32.13\n",
            "median num of characters 31.0\n"
          ],
          "name": "stdout"
        }
      ]
    },
    {
      "cell_type": "code",
      "metadata": {
        "id": "E_UbcQ-A3zUY",
        "colab_type": "code",
        "outputId": "38d18cfe-5c95-4588-8968-28a524d50a30",
        "colab": {
          "base_uri": "https://localhost:8080/",
          "height": 286
        }
      },
      "source": [
        "ind = np.random.randint(len(train_data))\n",
        "img, target = train_data[ind]\n",
        "class_name = train_data._characters[target]\n",
        "plt.imshow(np.asarray(img), cmap='gray')\n",
        "print('class: {}, img shape: {}'.format(class_name, img.size))"
      ],
      "execution_count": 12,
      "outputs": [
        {
          "output_type": "stream",
          "text": [
            "class: Armenian/character40, img shape: (105, 105)\n"
          ],
          "name": "stdout"
        },
        {
          "output_type": "display_data",
          "data": {
            "image/png": "[encoded data removed]",
            "text/plain": [
              "<Figure size 432x288 with 1 Axes>"
            ]
          },
          "metadata": {
            "tags": []
          }
        }
      ]
    },
    {
      "cell_type": "markdown",
      "metadata": {
        "id": "LYVXX9dN4Az-",
        "colab_type": "text"
      },
      "source": [
        "### Explore the evaluation set"
      ]
    },
    {
      "cell_type": "code",
      "metadata": {
        "id": "Z_ZneqIHDuGW",
        "colab_type": "code",
        "outputId": "b690e391-23a2-4db7-dfd7-aa49c7925abc",
        "colab": {
          "base_uri": "https://localhost:8080/",
          "height": 34
        }
      },
      "source": [
        "len(eval_data)"
      ],
      "execution_count": 13,
      "outputs": [
        {
          "output_type": "execute_result",
          "data": {
            "text/plain": [
              "13180"
            ]
          },
          "metadata": {
            "tags": []
          },
          "execution_count": 13
        }
      ]
    },
    {
      "cell_type": "code",
      "metadata": {
        "id": "5UU4vIDADziO",
        "colab_type": "code",
        "outputId": "2cd49835-9762-40eb-f4f5-8a4cf4a414e3",
        "colab": {
          "base_uri": "https://localhost:8080/",
          "height": 34
        }
      },
      "source": [
        "len(eval_data._alphabets), len(eval_data._characters)"
      ],
      "execution_count": 14,
      "outputs": [
        {
          "output_type": "execute_result",
          "data": {
            "text/plain": [
              "(20, 659)"
            ]
          },
          "metadata": {
            "tags": []
          },
          "execution_count": 14
        }
      ]
    },
    {
      "cell_type": "code",
      "metadata": {
        "id": "Wwn_LkBDD8uW",
        "colab_type": "code",
        "outputId": "81e8e18d-080f-4ece-b16f-fe1d6fbdeedc",
        "colab": {
          "base_uri": "https://localhost:8080/",
          "height": 357
        }
      },
      "source": [
        "eval_data._alphabets"
      ],
      "execution_count": 15,
      "outputs": [
        {
          "output_type": "execute_result",
          "data": {
            "text/plain": [
              "['Sylheti',\n",
              " 'Glagolitic',\n",
              " 'Oriya',\n",
              " 'Keble',\n",
              " 'Atemayar_Qelisayer',\n",
              " 'Tibetan',\n",
              " 'Kannada',\n",
              " 'Manipuri',\n",
              " 'Ge_ez',\n",
              " 'Tengwar',\n",
              " 'Atlantean',\n",
              " 'Syriac_(Serto)',\n",
              " 'Mongolian',\n",
              " 'Malayalam',\n",
              " 'Gurmukhi',\n",
              " 'Aurek-Besh',\n",
              " 'Angelic',\n",
              " 'ULOG',\n",
              " 'Avesta',\n",
              " 'Old_Church_Slavonic_(Cyrillic)']"
            ]
          },
          "metadata": {
            "tags": []
          },
          "execution_count": 15
        }
      ]
    },
    {
      "cell_type": "code",
      "metadata": {
        "id": "i43Y6B2HEC7V",
        "colab_type": "code",
        "outputId": "0709eb78-82ec-420a-915b-c43b37420af1",
        "colab": {
          "base_uri": "https://localhost:8080/",
          "height": 332
        }
      },
      "source": [
        "# evaluation set\n",
        "eval_per_lang_count = dict()\n",
        "for a in eval_data._alphabets:\n",
        "    eval_per_lang_count['{}'.format(a)] = len(os.listdir(os.path.join(eval_data.target_folder, a)))\n",
        "# num_eval_chars = list(eval_per_lang_count.values())\n",
        "plt.bar(range(len(eval_per_lang_count)), list(eval_per_lang_count.values()))\n",
        "plt.title('Num of characters per language in Evaluation Set')\n",
        "plt.show()\n",
        "print('maximum num of characters {}'.format(max(list(eval_per_lang_count.values()))))\n",
        "print('mean num of characters {:.2f}'.format(np.mean(list(eval_per_lang_count.values()))))\n",
        "print('median num of characters {}'.format(np.median(list(eval_per_lang_count.values()))))"
      ],
      "execution_count": 16,
      "outputs": [
        {
          "output_type": "display_data",
          "data": {
            "image/png": "[encoded data removed]",
            "text/plain": [
              "<Figure size 432x288 with 1 Axes>"
            ]
          },
          "metadata": {
            "tags": []
          }
        },
        {
          "output_type": "stream",
          "text": [
            "maximum num of characters 47\n",
            "mean num of characters 32.95\n",
            "median num of characters 27.0\n"
          ],
          "name": "stdout"
        }
      ]
    },
    {
      "cell_type": "code",
      "metadata": {
        "id": "HBpyR87WEUGr",
        "colab_type": "code",
        "outputId": "47ead1e6-299d-43d5-e749-c4a90935fea6",
        "colab": {
          "base_uri": "https://localhost:8080/",
          "height": 286
        }
      },
      "source": [
        "ind = np.random.randint(len(eval_data))\n",
        "img, target = eval_data[ind]\n",
        "class_name = eval_data._characters[target]\n",
        "plt.imshow(np.asarray(img), cmap='gray')\n",
        "print('class: {}, img shape: {}'.format(class_name, img.size))"
      ],
      "execution_count": 17,
      "outputs": [
        {
          "output_type": "stream",
          "text": [
            "class: Oriya/character45, img shape: (105, 105)\n"
          ],
          "name": "stdout"
        },
        {
          "output_type": "display_data",
          "data": {
            "image/png": "[encoded data removed]",
            "text/plain": [
              "<Figure size 432x288 with 1 Axes>"
            ]
          },
          "metadata": {
            "tags": []
          }
        }
      ]
    },
    {
      "cell_type": "markdown",
      "metadata": {
        "colab_type": "text",
        "id": "55CUenr80UTl"
      },
      "source": [
        "# Model <a id='model'></a>"
      ]
    },
    {
      "cell_type": "markdown",
      "metadata": {
        "id": "-WeSbc7DFf-F",
        "colab_type": "text"
      },
      "source": [
        "## Parameters <a id=\"parameter\"></a>"
      ]
    },
    {
      "cell_type": "code",
      "metadata": {
        "id": "-kBhx_l8Fal5",
        "colab_type": "code",
        "colab": {}
      },
      "source": [
        "tt.arg.device = 'cuda:0' if tt.arg.device is None else tt.arg.device\n",
        "tt.arg.dataset_root = 'omniglot_data'\n",
        "tt.arg.num_ways = 20 if tt.arg.num_ways is None else tt.arg.num_ways\n",
        "tt.arg.num_shots = 1 if tt.arg.num_shots is None else tt.arg.num_shots\n",
        "tt.arg.num_unlabeled = 0 if tt.arg.num_unlabeled is None else tt.arg.num_unlabeled\n",
        "tt.arg.num_layers = 3 if tt.arg.num_layers is None else tt.arg.num_layers\n",
        "tt.arg.meta_batch_size = 40 if tt.arg.meta_batch_size is None else tt.arg.meta_batch_size\n",
        "tt.arg.transductive = False if tt.arg.transductive is None else tt.arg.transductive\n",
        "tt.arg.seed = 222 if tt.arg.seed is None else tt.arg.seed\n",
        "tt.arg.num_gpus = 1 if tt.arg.num_gpus is None else tt.arg.num_gpus\n",
        "\n",
        "tt.arg.num_ways_train = tt.arg.num_ways\n",
        "tt.arg.num_ways_test = tt.arg.num_ways\n",
        "\n",
        "tt.arg.num_shots_train = tt.arg.num_shots\n",
        "tt.arg.num_shots_test = tt.arg.num_shots\n",
        "\n",
        "tt.arg.train_transductive = tt.arg.transductive\n",
        "tt.arg.test_transductive = tt.arg.transductive"
      ],
      "execution_count": 0,
      "outputs": []
    },
    {
      "cell_type": "markdown",
      "metadata": {
        "id": "IWaUrXMhGHBW",
        "colab_type": "text"
      },
      "source": [
        "### Model Parameters <a id=\"model_parameter\"></a>"
      ]
    },
    {
      "cell_type": "code",
      "metadata": {
        "id": "hjdF-DQCGJk6",
        "colab_type": "code",
        "colab": {}
      },
      "source": [
        "tt.arg.num_edge_features = 96\n",
        "tt.arg.num_node_features = 96\n",
        "tt.arg.emb_size = 128"
      ],
      "execution_count": 0,
      "outputs": []
    },
    {
      "cell_type": "markdown",
      "metadata": {
        "id": "mbx3dbo3Gln2",
        "colab_type": "text"
      },
      "source": [
        "### Train/Test Parameters <a id=\"train_test_parameters\"></a>"
      ]
    },
    {
      "cell_type": "code",
      "metadata": {
        "id": "oGVR6Rc2GZzh",
        "colab_type": "code",
        "colab": {}
      },
      "source": [
        "tt.arg.train_iteration = 100000\n",
        "tt.arg.test_iteration = 10000\n",
        "tt.arg.test_interval = 5000\n",
        "tt.arg.test_batch_size = 10\n",
        "tt.arg.log_step = 1000\n",
        "\n",
        "tt.arg.lr = 1e-3\n",
        "tt.arg.grad_clip = 5\n",
        "tt.arg.weight_decay = 1e-6\n",
        "tt.arg.dec_lr = 15000\n",
        "tt.arg.dropout = 0.1"
      ],
      "execution_count": 0,
      "outputs": []
    },
    {
      "cell_type": "code",
      "metadata": {
        "id": "_DAaVuTSI31b",
        "colab_type": "code",
        "colab": {}
      },
      "source": [
        "np.random.seed(tt.arg.seed)\n",
        "torch.manual_seed(tt.arg.seed)\n",
        "torch.cuda.manual_seed_all(tt.arg.seed)\n",
        "random.seed(tt.arg.seed)\n",
        "torch.backends.cudnn.deterministic = True\n",
        "torch.backends.cudnn.benchmark = False\n",
        "\n",
        "tt.arg.log_dir_user = tt.arg.log_dir\n",
        "tt.arg.log_dir = tt.arg.log_dir_user\n",
        "\n",
        "if not os.path.exists('asset/checkpoints'):\n",
        "   os.makedirs('asset/checkpoints')\n",
        "if not os.path.exists('asset/checkpoints/run'):\n",
        "   os.makedirs('asset/checkpoints/run')\n",
        "\n"
      ],
      "execution_count": 0,
      "outputs": []
    },
    {
      "cell_type": "code",
      "metadata": {
        "id": "dczcjOP003ZN",
        "colab_type": "code",
        "outputId": "b07c668c-6754-466c-d3df-ad7f74e170c7",
        "colab": {
          "base_uri": "https://localhost:8080/",
          "height": 1000
        }
      },
      "source": [
        "train_loader = Loader(root=tt.arg.dataset_root, partition='omniglot-py/images_background')\n",
        "valid_loader = Loader(root=tt.arg.dataset_root, partition='omniglot-py/images_evaluation')\n",
        "\n",
        "data_loader = {'train': train_loader, 'val': valid_loader}\n",
        "\n",
        "    \n"
      ],
      "execution_count": 22,
      "outputs": [
        {
          "output_type": "stream",
          "text": [
            "loading alphabet: Tifinagh\n",
            "Total number of alphabet: 30\n",
            "Total number of character sets in Tifinagh is 55\n",
            "Total number of images in Tifinagh is: 1100\n",
            "loading alphabet: Japanese_(hiragana)\n",
            "Total number of alphabet: 30\n",
            "Total number of character sets in Japanese_(hiragana) is 52\n",
            "Total number of images in Japanese_(hiragana) is: 1040\n",
            "loading alphabet: Inuktitut_(Canadian_Aboriginal_Syllabics)\n",
            "Total number of alphabet: 30\n",
            "Total number of character sets in Inuktitut_(Canadian_Aboriginal_Syllabics) is 16\n",
            "Total number of images in Inuktitut_(Canadian_Aboriginal_Syllabics) is: 320\n",
            "loading alphabet: Mkhedruli_(Georgian)\n",
            "Total number of alphabet: 30\n",
            "Total number of character sets in Mkhedruli_(Georgian) is 41\n",
            "Total number of images in Mkhedruli_(Georgian) is: 820\n",
            "loading alphabet: Syriac_(Estrangelo)\n",
            "Total number of alphabet: 30\n",
            "Total number of character sets in Syriac_(Estrangelo) is 23\n",
            "Total number of images in Syriac_(Estrangelo) is: 460\n",
            "loading alphabet: Korean\n",
            "Total number of alphabet: 30\n",
            "Total number of character sets in Korean is 40\n",
            "Total number of images in Korean is: 800\n",
            "loading alphabet: Sanskrit\n",
            "Total number of alphabet: 30\n",
            "Total number of character sets in Sanskrit is 42\n",
            "Total number of images in Sanskrit is: 840\n",
            "loading alphabet: Grantha\n",
            "Total number of alphabet: 30\n",
            "Total number of character sets in Grantha is 43\n",
            "Total number of images in Grantha is: 860\n",
            "loading alphabet: Balinese\n",
            "Total number of alphabet: 30\n",
            "Total number of character sets in Balinese is 24\n",
            "Total number of images in Balinese is: 480\n",
            "loading alphabet: Japanese_(katakana)\n",
            "Total number of alphabet: 30\n",
            "Total number of character sets in Japanese_(katakana) is 47\n",
            "Total number of images in Japanese_(katakana) is: 940\n",
            "loading alphabet: Tagalog\n",
            "Total number of alphabet: 30\n",
            "Total number of character sets in Tagalog is 17\n",
            "Total number of images in Tagalog is: 340\n",
            "loading alphabet: Hebrew\n",
            "Total number of alphabet: 30\n",
            "Total number of character sets in Hebrew is 22\n",
            "Total number of images in Hebrew is: 440\n",
            "loading alphabet: Cyrillic\n",
            "Total number of alphabet: 30\n",
            "Total number of character sets in Cyrillic is 33\n",
            "Total number of images in Cyrillic is: 660\n",
            "loading alphabet: Greek\n",
            "Total number of alphabet: 30\n",
            "Total number of character sets in Greek is 24\n",
            "Total number of images in Greek is: 480\n",
            "loading alphabet: Bengali\n",
            "Total number of alphabet: 30\n",
            "Total number of character sets in Bengali is 46\n",
            "Total number of images in Bengali is: 920\n",
            "loading alphabet: Arcadian\n",
            "Total number of alphabet: 30\n",
            "Total number of character sets in Arcadian is 26\n",
            "Total number of images in Arcadian is: 520\n",
            "loading alphabet: Burmese_(Myanmar)\n",
            "Total number of alphabet: 30\n",
            "Total number of character sets in Burmese_(Myanmar) is 34\n",
            "Total number of images in Burmese_(Myanmar) is: 680\n",
            "loading alphabet: Malay_(Jawi_-_Arabic)\n",
            "Total number of alphabet: 30\n",
            "Total number of character sets in Malay_(Jawi_-_Arabic) is 40\n",
            "Total number of images in Malay_(Jawi_-_Arabic) is: 800\n",
            "loading alphabet: Blackfoot_(Canadian_Aboriginal_Syllabics)\n",
            "Total number of alphabet: 30\n",
            "Total number of character sets in Blackfoot_(Canadian_Aboriginal_Syllabics) is 14\n",
            "Total number of images in Blackfoot_(Canadian_Aboriginal_Syllabics) is: 280\n",
            "loading alphabet: Braille\n",
            "Total number of alphabet: 30\n",
            "Total number of character sets in Braille is 26\n",
            "Total number of images in Braille is: 520\n",
            "loading alphabet: Armenian\n",
            "Total number of alphabet: 30\n",
            "Total number of character sets in Armenian is 41\n",
            "Total number of images in Armenian is: 820\n",
            "loading alphabet: Asomtavruli_(Georgian)\n",
            "Total number of alphabet: 30\n",
            "Total number of character sets in Asomtavruli_(Georgian) is 40\n",
            "Total number of images in Asomtavruli_(Georgian) is: 800\n",
            "loading alphabet: N_Ko\n",
            "Total number of alphabet: 30\n",
            "Total number of character sets in N_Ko is 33\n",
            "Total number of images in N_Ko is: 660\n",
            "loading alphabet: Gujarati\n",
            "Total number of alphabet: 30\n",
            "Total number of character sets in Gujarati is 48\n",
            "Total number of images in Gujarati is: 960\n",
            "loading alphabet: Anglo-Saxon_Futhorc\n",
            "Total number of alphabet: 30\n",
            "Total number of character sets in Anglo-Saxon_Futhorc is 29\n",
            "Total number of images in Anglo-Saxon_Futhorc is: 580\n",
            "loading alphabet: Futurama\n",
            "Total number of alphabet: 30\n",
            "Total number of character sets in Futurama is 26\n",
            "Total number of images in Futurama is: 520\n",
            "loading alphabet: Latin\n",
            "Total number of alphabet: 30\n",
            "Total number of character sets in Latin is 26\n",
            "Total number of images in Latin is: 520\n",
            "loading alphabet: Early_Aramaic\n",
            "Total number of alphabet: 30\n",
            "Total number of character sets in Early_Aramaic is 22\n",
            "Total number of images in Early_Aramaic is: 440\n",
            "loading alphabet: Ojibwe_(Canadian_Aboriginal_Syllabics)\n",
            "Total number of alphabet: 30\n",
            "Total number of character sets in Ojibwe_(Canadian_Aboriginal_Syllabics) is 14\n",
            "Total number of images in Ojibwe_(Canadian_Aboriginal_Syllabics) is: 280\n",
            "loading alphabet: Alphabet_of_the_Magi\n",
            "Total number of alphabet: 30\n",
            "Total number of character sets in Alphabet_of_the_Magi is 20\n",
            "Total number of images in Alphabet_of_the_Magi is: 400\n",
            "loading alphabet: Sylheti\n",
            "Total number of alphabet: 20\n",
            "Total number of character sets in Sylheti is 28\n",
            "Total number of images in Sylheti is: 560\n",
            "loading alphabet: Glagolitic\n",
            "Total number of alphabet: 20\n",
            "Total number of character sets in Glagolitic is 45\n",
            "Total number of images in Glagolitic is: 900\n",
            "loading alphabet: Oriya\n",
            "Total number of alphabet: 20\n",
            "Total number of character sets in Oriya is 46\n",
            "Total number of images in Oriya is: 920\n",
            "loading alphabet: Keble\n",
            "Total number of alphabet: 20\n",
            "Total number of character sets in Keble is 26\n",
            "Total number of images in Keble is: 520\n",
            "loading alphabet: Atemayar_Qelisayer\n",
            "Total number of alphabet: 20\n",
            "Total number of character sets in Atemayar_Qelisayer is 26\n",
            "Total number of images in Atemayar_Qelisayer is: 520\n",
            "loading alphabet: Tibetan\n",
            "Total number of alphabet: 20\n",
            "Total number of character sets in Tibetan is 42\n",
            "Total number of images in Tibetan is: 840\n",
            "loading alphabet: Kannada\n",
            "Total number of alphabet: 20\n",
            "Total number of character sets in Kannada is 41\n",
            "Total number of images in Kannada is: 820\n",
            "loading alphabet: Manipuri\n",
            "Total number of alphabet: 20\n",
            "Total number of character sets in Manipuri is 40\n",
            "Total number of images in Manipuri is: 800\n",
            "loading alphabet: Ge_ez\n",
            "Total number of alphabet: 20\n",
            "Total number of character sets in Ge_ez is 26\n",
            "Total number of images in Ge_ez is: 520\n",
            "loading alphabet: Tengwar\n",
            "Total number of alphabet: 20\n",
            "Total number of character sets in Tengwar is 25\n",
            "Total number of images in Tengwar is: 500\n",
            "loading alphabet: Atlantean\n",
            "Total number of alphabet: 20\n",
            "Total number of character sets in Atlantean is 26\n",
            "Total number of images in Atlantean is: 520\n",
            "loading alphabet: Syriac_(Serto)\n",
            "Total number of alphabet: 20\n",
            "Total number of character sets in Syriac_(Serto) is 23\n",
            "Total number of images in Syriac_(Serto) is: 460\n",
            "loading alphabet: Mongolian\n",
            "Total number of alphabet: 20\n",
            "Total number of character sets in Mongolian is 30\n",
            "Total number of images in Mongolian is: 600\n",
            "loading alphabet: Malayalam\n",
            "Total number of alphabet: 20\n",
            "Total number of character sets in Malayalam is 47\n",
            "Total number of images in Malayalam is: 940\n",
            "loading alphabet: Gurmukhi\n",
            "Total number of alphabet: 20\n",
            "Total number of character sets in Gurmukhi is 45\n",
            "Total number of images in Gurmukhi is: 900\n",
            "loading alphabet: Aurek-Besh\n",
            "Total number of alphabet: 20\n",
            "Total number of character sets in Aurek-Besh is 26\n",
            "Total number of images in Aurek-Besh is: 520\n",
            "loading alphabet: Angelic\n",
            "Total number of alphabet: 20\n",
            "Total number of character sets in Angelic is 20\n",
            "Total number of images in Angelic is: 400\n",
            "loading alphabet: ULOG\n",
            "Total number of alphabet: 20\n",
            "Total number of character sets in ULOG is 26\n",
            "Total number of images in ULOG is: 520\n",
            "loading alphabet: Avesta\n",
            "Total number of alphabet: 20\n",
            "Total number of character sets in Avesta is 26\n",
            "Total number of images in Avesta is: 520\n",
            "loading alphabet: Old_Church_Slavonic_(Cyrillic)\n",
            "Total number of alphabet: 20\n",
            "Total number of character sets in Old_Church_Slavonic_(Cyrillic) is 45\n",
            "Total number of images in Old_Church_Slavonic_(Cyrillic) is: 900\n"
          ],
          "name": "stdout"
        }
      ]
    },
    {
      "cell_type": "markdown",
      "metadata": {
        "id": "a7nSRoDSHGAK",
        "colab_type": "text"
      },
      "source": [
        "## Architecture & Initialization <a id=\"initialization\"></a>"
      ]
    },
    {
      "cell_type": "code",
      "metadata": {
        "id": "4m2tmpGIH6DC",
        "colab_type": "code",
        "colab": {}
      },
      "source": [
        "enc_module = EmbeddingImagenet(emb_size=tt.arg.emb_size)\n",
        "\n",
        "gnn_module = GraphNetwork(in_features=tt.arg.emb_size,\n",
        "                            node_features=tt.arg.num_edge_features,\n",
        "                            edge_features=tt.arg.num_node_features,\n",
        "                            num_layers=tt.arg.num_layers,\n",
        "                            dropout=tt.arg.dropout)\n"
      ],
      "execution_count": 0,
      "outputs": []
    },
    {
      "cell_type": "markdown",
      "metadata": {
        "id": "6yEx_zT0g0Uc",
        "colab_type": "text"
      },
      "source": [
        "# Training <a id='training'></a>"
      ]
    },
    {
      "cell_type": "code",
      "metadata": {
        "id": "b4aY5Z7x07tU",
        "colab_type": "code",
        "colab": {
          "base_uri": "https://localhost:8080/",
          "height": 816
        },
        "outputId": "43375979-b62c-451c-83e8-a919b8255503"
      },
      "source": [
        "# create trainer\n",
        "trainer = Learner(enc_module=enc_module,\n",
        "                         gnn_module=gnn_module,\n",
        "                         data_loader=data_loader)\n",
        "\n",
        "trainer.train()"
      ],
      "execution_count": 24,
      "outputs": [
        {
          "output_type": "error",
          "ename": "RuntimeError",
          "evalue": "ignored",
          "traceback": [
            "\u001b[0;31m---------------------------------------------------------------------------\u001b[0m",
            "\u001b[0;31mRuntimeError\u001b[0m                              Traceback (most recent call last)",
            "\u001b[0;32m<ipython-input-24-472fde015a38>\u001b[0m in \u001b[0;36m<module>\u001b[0;34m()\u001b[0m\n\u001b[1;32m      3\u001b[0m                          data_loader=data_loader)\n\u001b[1;32m      4\u001b[0m \u001b[0;34m\u001b[0m\u001b[0m\n\u001b[0;32m----> 5\u001b[0;31m \u001b[0mtrainer\u001b[0m\u001b[0;34m.\u001b[0m\u001b[0mtrain\u001b[0m\u001b[0;34m(\u001b[0m\u001b[0;34m)\u001b[0m\u001b[0;34m\u001b[0m\u001b[0;34m\u001b[0m\u001b[0m\n\u001b[0m",
            "\u001b[0;32m/content/src/learner.py\u001b[0m in \u001b[0;36mtrain\u001b[0;34m(self)\u001b[0m\n\u001b[1;32m     71\u001b[0m                                                                      \u001b[0mnum_ways\u001b[0m\u001b[0;34m=\u001b[0m\u001b[0mtt\u001b[0m\u001b[0;34m.\u001b[0m\u001b[0marg\u001b[0m\u001b[0;34m.\u001b[0m\u001b[0mnum_ways_train\u001b[0m\u001b[0;34m,\u001b[0m\u001b[0;34m\u001b[0m\u001b[0;34m\u001b[0m\u001b[0m\n\u001b[1;32m     72\u001b[0m                                                                      \u001b[0mnum_shots\u001b[0m\u001b[0;34m=\u001b[0m\u001b[0mtt\u001b[0m\u001b[0;34m.\u001b[0m\u001b[0marg\u001b[0m\u001b[0;34m.\u001b[0m\u001b[0mnum_shots_train\u001b[0m\u001b[0;34m,\u001b[0m\u001b[0;34m\u001b[0m\u001b[0;34m\u001b[0m\u001b[0m\n\u001b[0;32m---> 73\u001b[0;31m                                                                      seed=iter + tt.arg.seed)\n\u001b[0m\u001b[1;32m     74\u001b[0m \u001b[0;34m\u001b[0m\u001b[0m\n\u001b[1;32m     75\u001b[0m             \u001b[0;31m# set as single data\u001b[0m\u001b[0;34m\u001b[0m\u001b[0;34m\u001b[0m\u001b[0;34m\u001b[0m\u001b[0m\n",
            "\u001b[0;32m/content/src/dataloader.py\u001b[0m in \u001b[0;36mget_task_batch\u001b[0;34m(self, num_tasks, num_ways, num_shots, num_queries, seed)\u001b[0m\n\u001b[1;32m    150\u001b[0m                 \u001b[0;32mfor\u001b[0m \u001b[0mi_idx\u001b[0m \u001b[0;32min\u001b[0m \u001b[0mrange\u001b[0m\u001b[0;34m(\u001b[0m\u001b[0mnum_shots\u001b[0m\u001b[0;34m)\u001b[0m\u001b[0;34m:\u001b[0m\u001b[0;34m\u001b[0m\u001b[0;34m\u001b[0m\u001b[0m\n\u001b[1;32m    151\u001b[0m                     \u001b[0;31m# set data\u001b[0m\u001b[0;34m\u001b[0m\u001b[0;34m\u001b[0m\u001b[0;34m\u001b[0m\u001b[0m\n\u001b[0;32m--> 152\u001b[0;31m                     \u001b[0msupport_data\u001b[0m\u001b[0;34m[\u001b[0m\u001b[0mi_idx\u001b[0m \u001b[0;34m+\u001b[0m \u001b[0mc_idx\u001b[0m \u001b[0;34m*\u001b[0m \u001b[0mnum_shots\u001b[0m\u001b[0;34m]\u001b[0m\u001b[0;34m[\u001b[0m\u001b[0mt_idx\u001b[0m\u001b[0;34m]\u001b[0m \u001b[0;34m=\u001b[0m \u001b[0mself\u001b[0m\u001b[0;34m.\u001b[0m\u001b[0mtransform\u001b[0m\u001b[0;34m(\u001b[0m\u001b[0mclass_data_list\u001b[0m\u001b[0;34m[\u001b[0m\u001b[0mi_idx\u001b[0m\u001b[0;34m]\u001b[0m\u001b[0;34m)\u001b[0m\u001b[0;34m\u001b[0m\u001b[0;34m\u001b[0m\u001b[0m\n\u001b[0m\u001b[1;32m    153\u001b[0m                     \u001b[0msupport_label\u001b[0m\u001b[0;34m[\u001b[0m\u001b[0mi_idx\u001b[0m \u001b[0;34m+\u001b[0m \u001b[0mc_idx\u001b[0m \u001b[0;34m*\u001b[0m \u001b[0mnum_shots\u001b[0m\u001b[0;34m]\u001b[0m\u001b[0;34m[\u001b[0m\u001b[0mt_idx\u001b[0m\u001b[0;34m]\u001b[0m \u001b[0;34m=\u001b[0m \u001b[0mc_idx\u001b[0m\u001b[0;34m\u001b[0m\u001b[0;34m\u001b[0m\u001b[0m\n\u001b[1;32m    154\u001b[0m \u001b[0;34m\u001b[0m\u001b[0m\n",
            "\u001b[0;32m/usr/local/lib/python3.6/dist-packages/torchvision/transforms/transforms.py\u001b[0m in \u001b[0;36m__call__\u001b[0;34m(self, img)\u001b[0m\n\u001b[1;32m     59\u001b[0m     \u001b[0;32mdef\u001b[0m \u001b[0m__call__\u001b[0m\u001b[0;34m(\u001b[0m\u001b[0mself\u001b[0m\u001b[0;34m,\u001b[0m \u001b[0mimg\u001b[0m\u001b[0;34m)\u001b[0m\u001b[0;34m:\u001b[0m\u001b[0;34m\u001b[0m\u001b[0;34m\u001b[0m\u001b[0m\n\u001b[1;32m     60\u001b[0m         \u001b[0;32mfor\u001b[0m \u001b[0mt\u001b[0m \u001b[0;32min\u001b[0m \u001b[0mself\u001b[0m\u001b[0;34m.\u001b[0m\u001b[0mtransforms\u001b[0m\u001b[0;34m:\u001b[0m\u001b[0;34m\u001b[0m\u001b[0;34m\u001b[0m\u001b[0m\n\u001b[0;32m---> 61\u001b[0;31m             \u001b[0mimg\u001b[0m \u001b[0;34m=\u001b[0m \u001b[0mt\u001b[0m\u001b[0;34m(\u001b[0m\u001b[0mimg\u001b[0m\u001b[0;34m)\u001b[0m\u001b[0;34m\u001b[0m\u001b[0;34m\u001b[0m\u001b[0m\n\u001b[0m\u001b[1;32m     62\u001b[0m         \u001b[0;32mreturn\u001b[0m \u001b[0mimg\u001b[0m\u001b[0;34m\u001b[0m\u001b[0;34m\u001b[0m\u001b[0m\n\u001b[1;32m     63\u001b[0m \u001b[0;34m\u001b[0m\u001b[0m\n",
            "\u001b[0;32m/usr/local/lib/python3.6/dist-packages/torchvision/transforms/transforms.py\u001b[0m in \u001b[0;36m__call__\u001b[0;34m(self, tensor)\u001b[0m\n\u001b[1;32m    162\u001b[0m             \u001b[0mTensor\u001b[0m\u001b[0;34m:\u001b[0m \u001b[0mNormalized\u001b[0m \u001b[0mTensor\u001b[0m \u001b[0mimage\u001b[0m\u001b[0;34m.\u001b[0m\u001b[0;34m\u001b[0m\u001b[0;34m\u001b[0m\u001b[0m\n\u001b[1;32m    163\u001b[0m         \"\"\"\n\u001b[0;32m--> 164\u001b[0;31m         \u001b[0;32mreturn\u001b[0m \u001b[0mF\u001b[0m\u001b[0;34m.\u001b[0m\u001b[0mnormalize\u001b[0m\u001b[0;34m(\u001b[0m\u001b[0mtensor\u001b[0m\u001b[0;34m,\u001b[0m \u001b[0mself\u001b[0m\u001b[0;34m.\u001b[0m\u001b[0mmean\u001b[0m\u001b[0;34m,\u001b[0m \u001b[0mself\u001b[0m\u001b[0;34m.\u001b[0m\u001b[0mstd\u001b[0m\u001b[0;34m,\u001b[0m \u001b[0mself\u001b[0m\u001b[0;34m.\u001b[0m\u001b[0minplace\u001b[0m\u001b[0;34m)\u001b[0m\u001b[0;34m\u001b[0m\u001b[0;34m\u001b[0m\u001b[0m\n\u001b[0m\u001b[1;32m    165\u001b[0m \u001b[0;34m\u001b[0m\u001b[0m\n\u001b[1;32m    166\u001b[0m     \u001b[0;32mdef\u001b[0m \u001b[0m__repr__\u001b[0m\u001b[0;34m(\u001b[0m\u001b[0mself\u001b[0m\u001b[0;34m)\u001b[0m\u001b[0;34m:\u001b[0m\u001b[0;34m\u001b[0m\u001b[0;34m\u001b[0m\u001b[0m\n",
            "\u001b[0;32m/usr/local/lib/python3.6/dist-packages/torchvision/transforms/functional.py\u001b[0m in \u001b[0;36mnormalize\u001b[0;34m(tensor, mean, std, inplace)\u001b[0m\n\u001b[1;32m    206\u001b[0m     \u001b[0mmean\u001b[0m \u001b[0;34m=\u001b[0m \u001b[0mtorch\u001b[0m\u001b[0;34m.\u001b[0m\u001b[0mas_tensor\u001b[0m\u001b[0;34m(\u001b[0m\u001b[0mmean\u001b[0m\u001b[0;34m,\u001b[0m \u001b[0mdtype\u001b[0m\u001b[0;34m=\u001b[0m\u001b[0mtorch\u001b[0m\u001b[0;34m.\u001b[0m\u001b[0mfloat32\u001b[0m\u001b[0;34m,\u001b[0m \u001b[0mdevice\u001b[0m\u001b[0;34m=\u001b[0m\u001b[0mtensor\u001b[0m\u001b[0;34m.\u001b[0m\u001b[0mdevice\u001b[0m\u001b[0;34m)\u001b[0m\u001b[0;34m\u001b[0m\u001b[0;34m\u001b[0m\u001b[0m\n\u001b[1;32m    207\u001b[0m     \u001b[0mstd\u001b[0m \u001b[0;34m=\u001b[0m \u001b[0mtorch\u001b[0m\u001b[0;34m.\u001b[0m\u001b[0mas_tensor\u001b[0m\u001b[0;34m(\u001b[0m\u001b[0mstd\u001b[0m\u001b[0;34m,\u001b[0m \u001b[0mdtype\u001b[0m\u001b[0;34m=\u001b[0m\u001b[0mtorch\u001b[0m\u001b[0;34m.\u001b[0m\u001b[0mfloat32\u001b[0m\u001b[0;34m,\u001b[0m \u001b[0mdevice\u001b[0m\u001b[0;34m=\u001b[0m\u001b[0mtensor\u001b[0m\u001b[0;34m.\u001b[0m\u001b[0mdevice\u001b[0m\u001b[0;34m)\u001b[0m\u001b[0;34m\u001b[0m\u001b[0;34m\u001b[0m\u001b[0m\n\u001b[0;32m--> 208\u001b[0;31m     \u001b[0mtensor\u001b[0m\u001b[0;34m.\u001b[0m\u001b[0msub_\u001b[0m\u001b[0;34m(\u001b[0m\u001b[0mmean\u001b[0m\u001b[0;34m[\u001b[0m\u001b[0;34m:\u001b[0m\u001b[0;34m,\u001b[0m \u001b[0;32mNone\u001b[0m\u001b[0;34m,\u001b[0m \u001b[0;32mNone\u001b[0m\u001b[0;34m]\u001b[0m\u001b[0;34m)\u001b[0m\u001b[0;34m.\u001b[0m\u001b[0mdiv_\u001b[0m\u001b[0;34m(\u001b[0m\u001b[0mstd\u001b[0m\u001b[0;34m[\u001b[0m\u001b[0;34m:\u001b[0m\u001b[0;34m,\u001b[0m \u001b[0;32mNone\u001b[0m\u001b[0;34m,\u001b[0m \u001b[0;32mNone\u001b[0m\u001b[0;34m]\u001b[0m\u001b[0;34m)\u001b[0m\u001b[0;34m\u001b[0m\u001b[0;34m\u001b[0m\u001b[0m\n\u001b[0m\u001b[1;32m    209\u001b[0m     \u001b[0;32mreturn\u001b[0m \u001b[0mtensor\u001b[0m\u001b[0;34m\u001b[0m\u001b[0;34m\u001b[0m\u001b[0m\n\u001b[1;32m    210\u001b[0m \u001b[0;34m\u001b[0m\u001b[0m\n",
            "\u001b[0;31mRuntimeError\u001b[0m: output with shape [1, 84, 84] doesn't match the broadcast shape [3, 84, 84]"
          ]
        }
      ]
    },
    {
      "cell_type": "markdown",
      "metadata": {
        "id": "BZtYjeWzg0Ud",
        "colab_type": "text"
      },
      "source": [
        "## Learning Rate <a id='training-learning-rate'></a>"
      ]
    },
    {
      "cell_type": "markdown",
      "metadata": {
        "id": "ATagsrMkg0Uh",
        "colab_type": "text"
      },
      "source": [
        "## Fitting <a id='training-fitting'></a>"
      ]
    },
    {
      "cell_type": "markdown",
      "metadata": {
        "id": "QEpzykNCg0U1",
        "colab_type": "text"
      },
      "source": [
        "## Losses <a id='training-losses'></a>"
      ]
    },
    {
      "cell_type": "markdown",
      "metadata": {
        "id": "fcbMmnMCg0Wz",
        "colab_type": "text"
      },
      "source": [
        "# Evaluation <a id='evaluation'></a>"
      ]
    }
  ]
}